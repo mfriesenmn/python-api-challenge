{
 "cells": [
  {
   "cell_type": "markdown",
   "metadata": {},
   "source": [
    "# VacationPy\n",
    "----\n",
    "\n",
    "#### Note\n",
    "* Keep an eye on your API usage. Use https://developers.google.com/maps/reporting/gmp-reporting as reference for how to monitor your usage and billing.\n",
    "\n",
    "* Instructions have been included for each segment. You do not have to follow them exactly, but they are included to help you think through the steps."
   ]
  },
  {
   "cell_type": "code",
   "execution_count": 1,
   "metadata": {},
   "outputs": [],
   "source": [
    "# Dependencies and Setup\n",
    "import matplotlib.pyplot as plt\n",
    "import pandas as pd\n",
    "import numpy as np\n",
    "import requests\n",
    "import gmaps\n",
    "import os\n",
    "\n",
    "# Import API key\n",
    "from api_keys import g_key"
   ]
  },
  {
   "cell_type": "markdown",
   "metadata": {},
   "source": [
    "### Store Part I results into DataFrame\n",
    "* Load the csv exported in Part I to a DataFrame"
   ]
  },
  {
   "cell_type": "code",
   "execution_count": 79,
   "metadata": {},
   "outputs": [
    {
     "data": {
      "text/html": [
       "<div>\n",
       "<style scoped>\n",
       "    .dataframe tbody tr th:only-of-type {\n",
       "        vertical-align: middle;\n",
       "    }\n",
       "\n",
       "    .dataframe tbody tr th {\n",
       "        vertical-align: top;\n",
       "    }\n",
       "\n",
       "    .dataframe thead th {\n",
       "        text-align: right;\n",
       "    }\n",
       "</style>\n",
       "<table border=\"1\" class=\"dataframe\">\n",
       "  <thead>\n",
       "    <tr style=\"text-align: right;\">\n",
       "      <th></th>\n",
       "      <th>ID</th>\n",
       "      <th>City</th>\n",
       "      <th>Lat</th>\n",
       "      <th>Lng</th>\n",
       "      <th>Max Temp</th>\n",
       "      <th>Humidity</th>\n",
       "      <th>Cloudiness</th>\n",
       "      <th>Wind Speed</th>\n",
       "      <th>Country</th>\n",
       "      <th>Date</th>\n",
       "    </tr>\n",
       "  </thead>\n",
       "  <tbody>\n",
       "    <tr>\n",
       "      <th>0</th>\n",
       "      <td>1524296</td>\n",
       "      <td>Esil</td>\n",
       "      <td>51.9556</td>\n",
       "      <td>66.4042</td>\n",
       "      <td>271.49</td>\n",
       "      <td>98</td>\n",
       "      <td>97</td>\n",
       "      <td>4.22</td>\n",
       "      <td>KZ</td>\n",
       "      <td>2021-02-13 04:52:05</td>\n",
       "    </tr>\n",
       "    <tr>\n",
       "      <th>1</th>\n",
       "      <td>986717</td>\n",
       "      <td>Kruisfontein</td>\n",
       "      <td>-34.0033</td>\n",
       "      <td>24.7314</td>\n",
       "      <td>296.48</td>\n",
       "      <td>93</td>\n",
       "      <td>100</td>\n",
       "      <td>1.14</td>\n",
       "      <td>ZA</td>\n",
       "      <td>2021-02-13 04:52:39</td>\n",
       "    </tr>\n",
       "    <tr>\n",
       "      <th>2</th>\n",
       "      <td>1640972</td>\n",
       "      <td>Katobu</td>\n",
       "      <td>-4.9408</td>\n",
       "      <td>122.5276</td>\n",
       "      <td>304.39</td>\n",
       "      <td>58</td>\n",
       "      <td>100</td>\n",
       "      <td>3.52</td>\n",
       "      <td>ID</td>\n",
       "      <td>2021-02-13 04:52:39</td>\n",
       "    </tr>\n",
       "    <tr>\n",
       "      <th>3</th>\n",
       "      <td>4224413</td>\n",
       "      <td>Statesboro</td>\n",
       "      <td>32.4488</td>\n",
       "      <td>-81.7832</td>\n",
       "      <td>281.15</td>\n",
       "      <td>93</td>\n",
       "      <td>90</td>\n",
       "      <td>2.06</td>\n",
       "      <td>US</td>\n",
       "      <td>2021-02-13 04:52:39</td>\n",
       "    </tr>\n",
       "    <tr>\n",
       "      <th>4</th>\n",
       "      <td>3380290</td>\n",
       "      <td>Sinnamary</td>\n",
       "      <td>5.3833</td>\n",
       "      <td>-52.9500</td>\n",
       "      <td>298.52</td>\n",
       "      <td>87</td>\n",
       "      <td>90</td>\n",
       "      <td>5.98</td>\n",
       "      <td>GF</td>\n",
       "      <td>2021-02-13 04:52:39</td>\n",
       "    </tr>\n",
       "    <tr>\n",
       "      <th>...</th>\n",
       "      <td>...</td>\n",
       "      <td>...</td>\n",
       "      <td>...</td>\n",
       "      <td>...</td>\n",
       "      <td>...</td>\n",
       "      <td>...</td>\n",
       "      <td>...</td>\n",
       "      <td>...</td>\n",
       "      <td>...</td>\n",
       "      <td>...</td>\n",
       "    </tr>\n",
       "    <tr>\n",
       "      <th>581</th>\n",
       "      <td>1293960</td>\n",
       "      <td>Taunggyi</td>\n",
       "      <td>20.7833</td>\n",
       "      <td>97.0333</td>\n",
       "      <td>297.94</td>\n",
       "      <td>26</td>\n",
       "      <td>95</td>\n",
       "      <td>1.37</td>\n",
       "      <td>MM</td>\n",
       "      <td>2021-02-13 04:53:57</td>\n",
       "    </tr>\n",
       "    <tr>\n",
       "      <th>582</th>\n",
       "      <td>1516589</td>\n",
       "      <td>Zhezkazgan</td>\n",
       "      <td>47.8043</td>\n",
       "      <td>67.7144</td>\n",
       "      <td>265.76</td>\n",
       "      <td>96</td>\n",
       "      <td>0</td>\n",
       "      <td>3.44</td>\n",
       "      <td>KZ</td>\n",
       "      <td>2021-02-13 04:53:57</td>\n",
       "    </tr>\n",
       "    <tr>\n",
       "      <th>583</th>\n",
       "      <td>1657818</td>\n",
       "      <td>Champasak</td>\n",
       "      <td>14.7500</td>\n",
       "      <td>106.0000</td>\n",
       "      <td>299.15</td>\n",
       "      <td>50</td>\n",
       "      <td>40</td>\n",
       "      <td>1.03</td>\n",
       "      <td>LA</td>\n",
       "      <td>2021-02-13 04:53:58</td>\n",
       "    </tr>\n",
       "    <tr>\n",
       "      <th>584</th>\n",
       "      <td>1715015</td>\n",
       "      <td>Dicabisagan</td>\n",
       "      <td>17.0818</td>\n",
       "      <td>122.4157</td>\n",
       "      <td>298.81</td>\n",
       "      <td>69</td>\n",
       "      <td>56</td>\n",
       "      <td>3.67</td>\n",
       "      <td>PH</td>\n",
       "      <td>2021-02-13 04:53:58</td>\n",
       "    </tr>\n",
       "    <tr>\n",
       "      <th>585</th>\n",
       "      <td>2175819</td>\n",
       "      <td>Biloela</td>\n",
       "      <td>-24.4167</td>\n",
       "      <td>150.5000</td>\n",
       "      <td>306.76</td>\n",
       "      <td>30</td>\n",
       "      <td>13</td>\n",
       "      <td>2.91</td>\n",
       "      <td>AU</td>\n",
       "      <td>2021-02-13 04:53:58</td>\n",
       "    </tr>\n",
       "  </tbody>\n",
       "</table>\n",
       "<p>586 rows × 10 columns</p>\n",
       "</div>"
      ],
      "text/plain": [
       "          ID          City      Lat       Lng  Max Temp  Humidity  Cloudiness  \\\n",
       "0    1524296          Esil  51.9556   66.4042    271.49        98          97   \n",
       "1     986717  Kruisfontein -34.0033   24.7314    296.48        93         100   \n",
       "2    1640972        Katobu  -4.9408  122.5276    304.39        58         100   \n",
       "3    4224413    Statesboro  32.4488  -81.7832    281.15        93          90   \n",
       "4    3380290     Sinnamary   5.3833  -52.9500    298.52        87          90   \n",
       "..       ...           ...      ...       ...       ...       ...         ...   \n",
       "581  1293960      Taunggyi  20.7833   97.0333    297.94        26          95   \n",
       "582  1516589    Zhezkazgan  47.8043   67.7144    265.76        96           0   \n",
       "583  1657818     Champasak  14.7500  106.0000    299.15        50          40   \n",
       "584  1715015   Dicabisagan  17.0818  122.4157    298.81        69          56   \n",
       "585  2175819       Biloela -24.4167  150.5000    306.76        30          13   \n",
       "\n",
       "     Wind Speed Country                 Date  \n",
       "0          4.22      KZ  2021-02-13 04:52:05  \n",
       "1          1.14      ZA  2021-02-13 04:52:39  \n",
       "2          3.52      ID  2021-02-13 04:52:39  \n",
       "3          2.06      US  2021-02-13 04:52:39  \n",
       "4          5.98      GF  2021-02-13 04:52:39  \n",
       "..          ...     ...                  ...  \n",
       "581        1.37      MM  2021-02-13 04:53:57  \n",
       "582        3.44      KZ  2021-02-13 04:53:57  \n",
       "583        1.03      LA  2021-02-13 04:53:58  \n",
       "584        3.67      PH  2021-02-13 04:53:58  \n",
       "585        2.91      AU  2021-02-13 04:53:58  \n",
       "\n",
       "[586 rows x 10 columns]"
      ]
     },
     "execution_count": 79,
     "metadata": {},
     "output_type": "execute_result"
    }
   ],
   "source": [
    "columns = [\"ID\",\"City\",\"Lat\",\"Lng\",\"Max Temp\",\"Humidity\",\"Cloudiness\",\"Wind Speed\",\"Country\",\"Date\"]\n",
    "citiesdata = pd.read_csv(\"citiesdata.csv\")\n",
    "citiesdata.columns = columns\n",
    "citiesdata"
   ]
  },
  {
   "cell_type": "markdown",
   "metadata": {},
   "source": [
    "### Humidity Heatmap\n",
    "* Configure gmaps.\n",
    "* Use the Lat and Lng as locations and Humidity as the weight.\n",
    "* Add Heatmap layer to map."
   ]
  },
  {
   "cell_type": "code",
   "execution_count": 6,
   "metadata": {},
   "outputs": [],
   "source": [
    "gmaps.configure(api_key=g_key)"
   ]
  },
  {
   "cell_type": "code",
   "execution_count": 13,
   "metadata": {},
   "outputs": [
    {
     "data": {
      "application/vnd.jupyter.widget-view+json": {
       "model_id": "6ec135bf74d647cbbc89b3ca14996f63",
       "version_major": 2,
       "version_minor": 0
      },
      "text/plain": [
       "Figure(layout=FigureLayout(height='420px'))"
      ]
     },
     "metadata": {},
     "output_type": "display_data"
    }
   ],
   "source": [
    "fig = gmaps.figure()\n",
    "locs = citiesdata[[\"Lat\",\"Lng\"]]\n",
    "humidities = citiesdata[\"Humidity\"].astype(float)\n",
    "heat_layer = gmaps.heatmap_layer(locs, weights=humidities,\n",
    "                                 dissipating=False, max_intensity=10,\n",
    "                                 point_radius=1)\n",
    "fig.add_layer(heat_layer)\n",
    "fig"
   ]
  },
  {
   "cell_type": "markdown",
   "metadata": {},
   "source": [
    "### Create new DataFrame fitting weather criteria\n",
    "* Narrow down the cities to fit weather conditions.\n",
    "* Drop any rows will null values."
   ]
  },
  {
   "cell_type": "code",
   "execution_count": 53,
   "metadata": {},
   "outputs": [
    {
     "name": "stdout",
     "output_type": "stream",
     "text": [
      "Narrowed down to 10 vacation destinations.\n"
     ]
    }
   ],
   "source": [
    "#Max temp between 70 and 80 degrees farenheit\n",
    "idealspots = citiesdata[citiesdata[\"Max Temp\"] >= 294.3]\n",
    "idealspots = idealspots[idealspots[\"Max Temp\"] <= 299.7]\n",
    "#humidity below 60%\n",
    "idealspots = idealspots[idealspots[\"Humidity\"] <= 50]\n",
    "#Wind speed less than 10 mph\n",
    "idealspots = idealspots[idealspots[\"Wind Speed\"] <= 5]\n",
    "#Literally any degree of cloudiness\n",
    "idealspots = idealspots[idealspots[\"Cloudiness\"] <= 10]\n",
    "print(f'Narrowed down to {len(idealspots)} vacation destinations.')"
   ]
  },
  {
   "cell_type": "markdown",
   "metadata": {},
   "source": [
    "### Hotel Map\n",
    "* Store into variable named `hotel_df`.\n",
    "* Add a \"Hotel Name\" column to the DataFrame.\n",
    "* Set parameters to search for hotels with 5000 meters.\n",
    "* Hit the Google Places API for each city's coordinates.\n",
    "* Store the first Hotel result into the DataFrame.\n",
    "* Plot markers on top of the heatmap."
   ]
  },
  {
   "cell_type": "code",
   "execution_count": 23,
   "metadata": {},
   "outputs": [
    {
     "data": {
      "text/plain": [
       "{'candidates': [{'name': 'Egorkino Hotel'}], 'status': 'OK'}"
      ]
     },
     "execution_count": 23,
     "metadata": {},
     "output_type": "execute_result"
    }
   ],
   "source": [
    "#Practicing preparing statement\n",
    "latcord = 51.9556\n",
    "longcord = 66.4042\n",
    "requestString = (f'https://maps.googleapis.com/maps/api/place/findplacefromtext/json?input=hotel&inputtype=textquery&fields=name&locationbias=circle:5000@{latcord},{longcord}&key={g_key}')\n",
    "hotelsList = requests.get(requestString)\n",
    "hotelsList.json()"
   ]
  },
  {
   "cell_type": "code",
   "execution_count": 103,
   "metadata": {},
   "outputs": [
    {
     "data": {
      "text/html": [
       "<div>\n",
       "<style scoped>\n",
       "    .dataframe tbody tr th:only-of-type {\n",
       "        vertical-align: middle;\n",
       "    }\n",
       "\n",
       "    .dataframe tbody tr th {\n",
       "        vertical-align: top;\n",
       "    }\n",
       "\n",
       "    .dataframe thead th {\n",
       "        text-align: right;\n",
       "    }\n",
       "</style>\n",
       "<table border=\"1\" class=\"dataframe\">\n",
       "  <thead>\n",
       "    <tr style=\"text-align: right;\">\n",
       "      <th></th>\n",
       "      <th>Hotel Name</th>\n",
       "      <th>Lat</th>\n",
       "      <th>Lng</th>\n",
       "    </tr>\n",
       "  </thead>\n",
       "  <tbody>\n",
       "    <tr>\n",
       "      <th>0</th>\n",
       "      <td>Best Western Eden Prairie Inn</td>\n",
       "      <td>44.858434</td>\n",
       "      <td>-93.424279</td>\n",
       "    </tr>\n",
       "    <tr>\n",
       "      <th>1</th>\n",
       "      <td>Hotel Diarra</td>\n",
       "      <td>12.466045</td>\n",
       "      <td>-3.471669</td>\n",
       "    </tr>\n",
       "    <tr>\n",
       "      <th>2</th>\n",
       "      <td>Best Western Eden Prairie Inn</td>\n",
       "      <td>44.858434</td>\n",
       "      <td>-93.424279</td>\n",
       "    </tr>\n",
       "    <tr>\n",
       "      <th>3</th>\n",
       "      <td>City Convenience Inn Parking Lot</td>\n",
       "      <td>24.405313</td>\n",
       "      <td>111.560860</td>\n",
       "    </tr>\n",
       "    <tr>\n",
       "      <th>4</th>\n",
       "      <td>Holiday Inn Express Iquique</td>\n",
       "      <td>-20.240217</td>\n",
       "      <td>-70.145096</td>\n",
       "    </tr>\n",
       "    <tr>\n",
       "      <th>5</th>\n",
       "      <td>Tendaba camp</td>\n",
       "      <td>13.439108</td>\n",
       "      <td>-15.809101</td>\n",
       "    </tr>\n",
       "    <tr>\n",
       "      <th>6</th>\n",
       "      <td>Kyan Hotel</td>\n",
       "      <td>26.250835</td>\n",
       "      <td>82.046693</td>\n",
       "    </tr>\n",
       "    <tr>\n",
       "      <th>7</th>\n",
       "      <td>Nam Cường Hotel</td>\n",
       "      <td>20.433383</td>\n",
       "      <td>106.167186</td>\n",
       "    </tr>\n",
       "    <tr>\n",
       "      <th>8</th>\n",
       "      <td>Bravia Hotel Niamey</td>\n",
       "      <td>13.521666</td>\n",
       "      <td>2.099892</td>\n",
       "    </tr>\n",
       "    <tr>\n",
       "      <th>9</th>\n",
       "      <td>Cygnett Park Meghna - Bongaigaon</td>\n",
       "      <td>26.504058</td>\n",
       "      <td>90.552090</td>\n",
       "    </tr>\n",
       "  </tbody>\n",
       "</table>\n",
       "</div>"
      ],
      "text/plain": [
       "                         Hotel Name        Lat         Lng\n",
       "0     Best Western Eden Prairie Inn  44.858434  -93.424279\n",
       "1                      Hotel Diarra  12.466045   -3.471669\n",
       "2     Best Western Eden Prairie Inn  44.858434  -93.424279\n",
       "3  City Convenience Inn Parking Lot  24.405313  111.560860\n",
       "4       Holiday Inn Express Iquique -20.240217  -70.145096\n",
       "5                      Tendaba camp  13.439108  -15.809101\n",
       "6                        Kyan Hotel  26.250835   82.046693\n",
       "7                   Nam Cường Hotel  20.433383  106.167186\n",
       "8               Bravia Hotel Niamey  13.521666    2.099892\n",
       "9  Cygnett Park Meghna - Bongaigaon  26.504058   90.552090"
      ]
     },
     "execution_count": 103,
     "metadata": {},
     "output_type": "execute_result"
    }
   ],
   "source": [
    "hotels = []\n",
    "hoteldf = pd.DataFrame(data={})\n",
    "for index, city in idealspots.iterrows():\n",
    "    latcord = city[\"Lat\"]\n",
    "    longcord = city[\"Lng\"]\n",
    "    requestString = (f'https://maps.googleapis.com/maps/api/place/findplacefromtext/json?input=hotel&inputtype=textquery&fields=name,geometry&locationbias=circle:5000@{latcord},{longcord}&key={g_key}')\n",
    "    cityHotels = requests.get(requestString)\n",
    "    hoteljson = cityHotels.json()[\"candidates\"][0]\n",
    "    hotels.append([hoteljson[\"name\"],hoteljson[\"geometry\"][\"location\"][\"lat\"],hoteljson[\"geometry\"][\"location\"][\"lng\"]])\n",
    "hotel_df = pd.DataFrame(hotels)\n",
    "hotel_df.columns = [\"Hotel Name\",\"Lat\",\"Lng\"]\n",
    "hotel_df"
   ]
  },
  {
   "cell_type": "code",
   "execution_count": 102,
   "metadata": {},
   "outputs": [
    {
     "ename": "KeyError",
     "evalue": "'Hotel Name'",
     "output_type": "error",
     "traceback": [
      "\u001b[1;31m---------------------------------------------------------------------------\u001b[0m",
      "\u001b[1;31mKeyError\u001b[0m                                  Traceback (most recent call last)",
      "\u001b[1;32m<ipython-input-102-464b2b3e63ad>\u001b[0m in \u001b[0;36m<module>\u001b[1;34m\u001b[0m\n\u001b[0;32m     11\u001b[0m \u001b[1;31m# Store the DataFrame Row\u001b[0m\u001b[1;33m\u001b[0m\u001b[1;33m\u001b[0m\u001b[1;33m\u001b[0m\u001b[0m\n\u001b[0;32m     12\u001b[0m \u001b[1;31m# NOTE: be sure to update with your DataFrame name\u001b[0m\u001b[1;33m\u001b[0m\u001b[1;33m\u001b[0m\u001b[1;33m\u001b[0m\u001b[0m\n\u001b[1;32m---> 13\u001b[1;33m \u001b[0mhotel_info\u001b[0m \u001b[1;33m=\u001b[0m \u001b[1;33m[\u001b[0m\u001b[0minfo_box_template\u001b[0m\u001b[1;33m.\u001b[0m\u001b[0mformat\u001b[0m\u001b[1;33m(\u001b[0m\u001b[1;33m**\u001b[0m\u001b[0mrow\u001b[0m\u001b[1;33m)\u001b[0m \u001b[1;32mfor\u001b[0m \u001b[0mindex\u001b[0m\u001b[1;33m,\u001b[0m \u001b[0mrow\u001b[0m \u001b[1;32min\u001b[0m \u001b[0mhotel_df\u001b[0m\u001b[1;33m.\u001b[0m\u001b[0miterrows\u001b[0m\u001b[1;33m(\u001b[0m\u001b[1;33m)\u001b[0m\u001b[1;33m]\u001b[0m\u001b[1;33m\u001b[0m\u001b[1;33m\u001b[0m\u001b[0m\n\u001b[0m\u001b[0;32m     14\u001b[0m \u001b[0mlocations\u001b[0m \u001b[1;33m=\u001b[0m \u001b[0mhotel_df\u001b[0m\u001b[1;33m[\u001b[0m\u001b[1;33m[\u001b[0m\u001b[1;34m\"Lat\"\u001b[0m\u001b[1;33m,\u001b[0m \u001b[1;34m\"Lng\"\u001b[0m\u001b[1;33m]\u001b[0m\u001b[1;33m]\u001b[0m\u001b[1;33m\u001b[0m\u001b[1;33m\u001b[0m\u001b[0m\n",
      "\u001b[1;32m<ipython-input-102-464b2b3e63ad>\u001b[0m in \u001b[0;36m<listcomp>\u001b[1;34m(.0)\u001b[0m\n\u001b[0;32m     11\u001b[0m \u001b[1;31m# Store the DataFrame Row\u001b[0m\u001b[1;33m\u001b[0m\u001b[1;33m\u001b[0m\u001b[1;33m\u001b[0m\u001b[0m\n\u001b[0;32m     12\u001b[0m \u001b[1;31m# NOTE: be sure to update with your DataFrame name\u001b[0m\u001b[1;33m\u001b[0m\u001b[1;33m\u001b[0m\u001b[1;33m\u001b[0m\u001b[0m\n\u001b[1;32m---> 13\u001b[1;33m \u001b[0mhotel_info\u001b[0m \u001b[1;33m=\u001b[0m \u001b[1;33m[\u001b[0m\u001b[0minfo_box_template\u001b[0m\u001b[1;33m.\u001b[0m\u001b[0mformat\u001b[0m\u001b[1;33m(\u001b[0m\u001b[1;33m**\u001b[0m\u001b[0mrow\u001b[0m\u001b[1;33m)\u001b[0m \u001b[1;32mfor\u001b[0m \u001b[0mindex\u001b[0m\u001b[1;33m,\u001b[0m \u001b[0mrow\u001b[0m \u001b[1;32min\u001b[0m \u001b[0mhotel_df\u001b[0m\u001b[1;33m.\u001b[0m\u001b[0miterrows\u001b[0m\u001b[1;33m(\u001b[0m\u001b[1;33m)\u001b[0m\u001b[1;33m]\u001b[0m\u001b[1;33m\u001b[0m\u001b[1;33m\u001b[0m\u001b[0m\n\u001b[0m\u001b[0;32m     14\u001b[0m \u001b[0mlocations\u001b[0m \u001b[1;33m=\u001b[0m \u001b[0mhotel_df\u001b[0m\u001b[1;33m[\u001b[0m\u001b[1;33m[\u001b[0m\u001b[1;34m\"Lat\"\u001b[0m\u001b[1;33m,\u001b[0m \u001b[1;34m\"Lng\"\u001b[0m\u001b[1;33m]\u001b[0m\u001b[1;33m]\u001b[0m\u001b[1;33m\u001b[0m\u001b[1;33m\u001b[0m\u001b[0m\n",
      "\u001b[1;31mKeyError\u001b[0m: 'Hotel Name'"
     ]
    }
   ],
   "source": [
    "# NOTE: Do not change any of the code in this cell\n",
    "\n",
    "# Using the template add the hotel marks to the heatmap\n",
    "info_box_template = \"\"\"\n",
    "<dl>\n",
    "<dt>Name</dt><dd>{Hotel Name}</dd>\n",
    "<dt>City</dt><dd>{City}</dd>\n",
    "<dt>Country</dt><dd>{Country}</dd>\n",
    "</dl>\n",
    "\"\"\"\n",
    "# Store the DataFrame Row\n",
    "# NOTE: be sure to update with your DataFrame name\n",
    "hotel_info = [info_box_template.format(**row) for index, row in hotel_df.iterrows()]\n",
    "locations = hotel_df[[\"Lat\", \"Lng\"]]"
   ]
  },
  {
   "cell_type": "code",
   "execution_count": 104,
   "metadata": {},
   "outputs": [
    {
     "data": {
      "application/vnd.jupyter.widget-view+json": {
       "model_id": "1ee36401a7e24539b78eeee4cbd51277",
       "version_major": 2,
       "version_minor": 0
      },
      "text/plain": [
       "Figure(layout=FigureLayout(height='420px'))"
      ]
     },
     "metadata": {},
     "output_type": "display_data"
    }
   ],
   "source": [
    "# Add marker layer ontop of heat map\n",
    "fig = gmaps.figure()\n",
    "locs = hotel_df[[\"Lat\",\"Lng\"]]\n",
    "hotel_layer = gmaps.symbol_layer(locs, fill_color='red', stroke_color='red')\n",
    "fig.add_layer(hotel_layer)\n",
    "fig\n",
    "\n",
    "# Display figure\n"
   ]
  },
  {
   "cell_type": "markdown",
   "metadata": {},
   "source": [
    "End of assignment observations:\n",
    "According to the very cursory and oversimplifying metrics of weather alone, at the exact time that I acquired all of the weather information, I would probably most enjoy hanging out in Africa, right around the southern border of the Sahara Desert.\n",
    "\n"
   ]
  }
 ],
 "metadata": {
  "kernelspec": {
   "display_name": "Python 3",
   "language": "python",
   "name": "python3"
  },
  "language_info": {
   "codemirror_mode": {
    "name": "ipython",
    "version": 3
   },
   "file_extension": ".py",
   "mimetype": "text/x-python",
   "name": "python",
   "nbconvert_exporter": "python",
   "pygments_lexer": "ipython3",
   "version": "3.8.5"
  },
  "latex_envs": {
   "LaTeX_envs_menu_present": true,
   "autoclose": false,
   "autocomplete": true,
   "bibliofile": "biblio.bib",
   "cite_by": "apalike",
   "current_citInitial": 1,
   "eqLabelWithNumbers": true,
   "eqNumInitial": 1,
   "hotkeys": {
    "equation": "Ctrl-E",
    "itemize": "Ctrl-I"
   },
   "labels_anchors": false,
   "latex_user_defs": false,
   "report_style_numbering": false,
   "user_envs_cfg": false
  }
 },
 "nbformat": 4,
 "nbformat_minor": 4
}
